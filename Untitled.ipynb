{
 "cells": [
  {
   "cell_type": "code",
   "execution_count": 1,
   "metadata": {},
   "outputs": [
    {
     "name": "stdout",
     "output_type": "stream",
     "text": [
      "plz enter ur nmepreethi\n"
     ]
    }
   ],
   "source": [
    "preethi = input(\"plz enter ur nme\");"
   ]
  },
  {
   "cell_type": "code",
   "execution_count": 65,
   "metadata": {},
   "outputs": [
    {
     "name": "stdout",
     "output_type": "stream",
     "text": [
      "welcome i work\n"
     ]
    }
   ],
   "source": [
    "print(\"welcome\",preethi);"
   ]
  },
  {
   "cell_type": "code",
   "execution_count": 66,
   "metadata": {},
   "outputs": [
    {
     "ename": "TypeError",
     "evalue": "'list' object is not callable",
     "output_type": "error",
     "traceback": [
      "\u001b[1;31m---------------------------------------------------------------------------\u001b[0m",
      "\u001b[1;31mTypeError\u001b[0m                                 Traceback (most recent call last)",
      "\u001b[1;32m<ipython-input-66-8f3537e7baa2>\u001b[0m in \u001b[0;36m<module>\u001b[1;34m\u001b[0m\n\u001b[1;32m----> 1\u001b[1;33m \u001b[0mpreethi\u001b[0m \u001b[1;33m=\u001b[0m \u001b[0minput\u001b[0m\u001b[1;33m(\u001b[0m\u001b[1;34m\"plz enter ur nme\"\u001b[0m\u001b[1;33m)\u001b[0m\u001b[1;33m;\u001b[0m\u001b[1;33m\u001b[0m\u001b[1;33m\u001b[0m\u001b[0m\n\u001b[0m",
      "\u001b[1;31mTypeError\u001b[0m: 'list' object is not callable"
     ]
    }
   ],
   "source": [
    "preethi = input(\"plz enter ur nme\");"
   ]
  },
  {
   "cell_type": "code",
   "execution_count": 34,
   "metadata": {},
   "outputs": [
    {
     "ename": "NameError",
     "evalue": "name 'preethi' is not defined",
     "output_type": "error",
     "traceback": [
      "\u001b[1;31m---------------------------------------------------------------------------\u001b[0m",
      "\u001b[1;31mNameError\u001b[0m                                 Traceback (most recent call last)",
      "\u001b[1;32m<ipython-input-34-de41b2a87347>\u001b[0m in \u001b[0;36m<module>\u001b[1;34m\u001b[0m\n\u001b[1;32m----> 1\u001b[1;33m \u001b[0mage\u001b[0m\u001b[1;33m=\u001b[0m\u001b[0mint\u001b[0m\u001b[1;33m(\u001b[0m\u001b[0mpreethi\u001b[0m\u001b[1;33m)\u001b[0m\u001b[1;33m\u001b[0m\u001b[1;33m\u001b[0m\u001b[0m\n\u001b[0m",
      "\u001b[1;31mNameError\u001b[0m: name 'preethi' is not defined"
     ]
    }
   ],
   "source": [
    "age=int(preethi)"
   ]
  },
  {
   "cell_type": "code",
   "execution_count": 35,
   "metadata": {},
   "outputs": [
    {
     "ename": "NameError",
     "evalue": "name 'age' is not defined",
     "output_type": "error",
     "traceback": [
      "\u001b[1;31m---------------------------------------------------------------------------\u001b[0m",
      "\u001b[1;31mNameError\u001b[0m                                 Traceback (most recent call last)",
      "\u001b[1;32m<ipython-input-35-7e25d7fa93be>\u001b[0m in \u001b[0;36m<module>\u001b[1;34m\u001b[0m\n\u001b[1;32m----> 1\u001b[1;33m \u001b[0mprint\u001b[0m\u001b[1;33m(\u001b[0m\u001b[0mage\u001b[0m\u001b[1;33m*\u001b[0m\u001b[1;36m5\u001b[0m\u001b[1;33m)\u001b[0m\u001b[1;33m\u001b[0m\u001b[1;33m\u001b[0m\u001b[0m\n\u001b[0m",
      "\u001b[1;31mNameError\u001b[0m: name 'age' is not defined"
     ]
    }
   ],
   "source": [
    "print(age*5)"
   ]
  },
  {
   "cell_type": "code",
   "execution_count": 36,
   "metadata": {},
   "outputs": [],
   "source": [
    "preethi='i work'"
   ]
  },
  {
   "cell_type": "code",
   "execution_count": 37,
   "metadata": {},
   "outputs": [],
   "source": [
    "str=preethi[0:4]"
   ]
  },
  {
   "cell_type": "code",
   "execution_count": 38,
   "metadata": {},
   "outputs": [
    {
     "name": "stdout",
     "output_type": "stream",
     "text": [
      "i wo\n"
     ]
    }
   ],
   "source": [
    "print(str)"
   ]
  },
  {
   "cell_type": "code",
   "execution_count": 39,
   "metadata": {},
   "outputs": [],
   "source": [
    "pri=\"I love Python programming\""
   ]
  },
  {
   "cell_type": "code",
   "execution_count": 40,
   "metadata": {},
   "outputs": [
    {
     "name": "stdout",
     "output_type": "stream",
     "text": [
      "Python\n"
     ]
    }
   ],
   "source": [
    "str=pri[7:13]\n",
    "print(str)"
   ]
  },
  {
   "cell_type": "code",
   "execution_count": 41,
   "metadata": {},
   "outputs": [
    {
     "name": "stdout",
     "output_type": "stream",
     "text": [
      "Python programmin\n"
     ]
    }
   ],
   "source": [
    "str=pri[-18:-1]\n",
    "print(str)"
   ]
  },
  {
   "cell_type": "code",
   "execution_count": 42,
   "metadata": {},
   "outputs": [
    {
     "data": {
      "text/plain": [
       "'e'"
      ]
     },
     "execution_count": 42,
     "metadata": {},
     "output_type": "execute_result"
    }
   ],
   "source": [
    "x = 'len'\n",
    "x[len(x * 2) - 5]\n"
   ]
  },
  {
   "cell_type": "code",
   "execution_count": 43,
   "metadata": {},
   "outputs": [
    {
     "data": {
      "text/plain": [
       "'mumbai23'"
      ]
     },
     "execution_count": 43,
     "metadata": {},
     "output_type": "execute_result"
    }
   ],
   "source": [
    "string = '******mumbai23#####'\n",
    "string.lstrip('*').rstrip('#')"
   ]
  },
  {
   "cell_type": "code",
   "execution_count": 44,
   "metadata": {},
   "outputs": [
    {
     "data": {
      "text/plain": [
       "2"
      ]
     },
     "execution_count": 44,
     "metadata": {},
     "output_type": "execute_result"
    }
   ],
   "source": [
    "str='preethi'\n",
    "str.count('e',2)"
   ]
  },
  {
   "cell_type": "code",
   "execution_count": 45,
   "metadata": {},
   "outputs": [
    {
     "ename": "SyntaxError",
     "evalue": "invalid syntax (<ipython-input-45-f200d27ae1a9>, line 3)",
     "output_type": "error",
     "traceback": [
      "\u001b[1;36m  File \u001b[1;32m\"<ipython-input-45-f200d27ae1a9>\"\u001b[1;36m, line \u001b[1;32m3\u001b[0m\n\u001b[1;33m    for i in range((n))\u001b[0m\n\u001b[1;37m                       ^\u001b[0m\n\u001b[1;31mSyntaxError\u001b[0m\u001b[1;31m:\u001b[0m invalid syntax\n"
     ]
    }
   ],
   "source": [
    "str = input('enter');\n",
    "n = str.len();\n",
    "for i in range((n))\n",
    "print(str)\n"
   ]
  },
  {
   "cell_type": "code",
   "execution_count": 46,
   "metadata": {},
   "outputs": [
    {
     "name": "stdout",
     "output_type": "stream",
     "text": [
      "[]\n"
     ]
    }
   ],
   "source": [
    "word = ['1','2','3','4']\n",
    "word[ : ] = [ ] \n",
    "print(word)"
   ]
  },
  {
   "cell_type": "code",
   "execution_count": 47,
   "metadata": {},
   "outputs": [
    {
     "name": "stdout",
     "output_type": "stream",
     "text": [
      "['five', 'four', 'one', 'six', 'three', 'two']\n",
      "['one', 'two', 'three', 'four', 'five', 'six']\n"
     ]
    }
   ],
   "source": [
    "L = ['one','two','three', 'four', 'five', 'six']\n",
    "print(sorted(L))\n",
    "print (L)"
   ]
  },
  {
   "cell_type": "code",
   "execution_count": 48,
   "metadata": {},
   "outputs": [
    {
     "data": {
      "text/plain": [
       "'Python'"
      ]
     },
     "execution_count": 48,
     "metadata": {},
     "output_type": "execute_result"
    }
   ],
   "source": [
    "input_list =  [['SAS','R'],['Tableau','SQL'],['Python','Java']]\n",
    "input_list[2][0]"
   ]
  },
  {
   "cell_type": "code",
   "execution_count": 49,
   "metadata": {},
   "outputs": [
    {
     "name": "stdout",
     "output_type": "stream",
     "text": [
      "['Kumar', 'Ravi', '003']\n"
     ]
    }
   ],
   "source": [
    "input_str = 'Kumar_Ravi_003'\n",
    "input=input_str.split('_');\n",
    "print(input)"
   ]
  },
  {
   "cell_type": "code",
   "execution_count": 50,
   "metadata": {},
   "outputs": [
    {
     "data": {
      "text/plain": [
       "'s'"
      ]
     },
     "execution_count": 50,
     "metadata": {},
     "output_type": "execute_result"
    }
   ],
   "source": [
    "t = (\"disco\", 12, 4.5)\n",
    "t[0][2]"
   ]
  },
  {
   "cell_type": "code",
   "execution_count": 51,
   "metadata": {},
   "outputs": [
    {
     "name": "stdout",
     "output_type": "stream",
     "text": [
      "()\n"
     ]
    }
   ],
   "source": [
    "t = (1, 2, 4, 3)\n",
    "print(t[2:-4])"
   ]
  },
  {
   "cell_type": "code",
   "execution_count": 52,
   "metadata": {},
   "outputs": [
    {
     "ename": "TypeError",
     "evalue": "unsupported operand type(s) for &: 'list' and 'list'",
     "output_type": "error",
     "traceback": [
      "\u001b[1;31m---------------------------------------------------------------------------\u001b[0m",
      "\u001b[1;31mTypeError\u001b[0m                                 Traceback (most recent call last)",
      "\u001b[1;32m<ipython-input-52-ff606d26cd99>\u001b[0m in \u001b[0;36m<module>\u001b[1;34m\u001b[0m\n\u001b[0;32m      2\u001b[0m \u001b[1;33m\u001b[0m\u001b[0m\n\u001b[0;32m      3\u001b[0m \u001b[0mB\u001b[0m \u001b[1;33m=\u001b[0m \u001b[1;33m[\u001b[0m\u001b[1;36m3\u001b[0m\u001b[1;33m,\u001b[0m \u001b[1;36m3\u001b[0m\u001b[1;33m,\u001b[0m \u001b[1;36m5\u001b[0m\u001b[1;33m,\u001b[0m \u001b[1;36m5\u001b[0m\u001b[1;33m,\u001b[0m \u001b[1;36m1\u001b[0m \u001b[1;33m,\u001b[0m\u001b[1;36m7\u001b[0m \u001b[1;33m,\u001b[0m\u001b[1;36m2\u001b[0m\u001b[1;33m]\u001b[0m\u001b[1;33m\u001b[0m\u001b[1;33m\u001b[0m\u001b[0m\n\u001b[1;32m----> 4\u001b[1;33m \u001b[0manswer\u001b[0m \u001b[1;33m=\u001b[0m \u001b[1;33m(\u001b[0m\u001b[0mA\u001b[0m \u001b[1;33m&\u001b[0m \u001b[0mB\u001b[0m\u001b[1;33m)\u001b[0m\u001b[1;33m\u001b[0m\u001b[1;33m\u001b[0m\u001b[0m\n\u001b[0m\u001b[0;32m      5\u001b[0m \u001b[0mprint\u001b[0m\u001b[1;33m(\u001b[0m\u001b[0manswer\u001b[0m\u001b[1;33m)\u001b[0m\u001b[1;33m\u001b[0m\u001b[1;33m\u001b[0m\u001b[0m\n",
      "\u001b[1;31mTypeError\u001b[0m: unsupported operand type(s) for &: 'list' and 'list'"
     ]
    }
   ],
   "source": [
    "A = [5, 1, 3, 4, 4, 5, 6, 7]\n",
    "\n",
    "B = [3, 3, 5, 5, 1 ,7 ,2]\n",
    "answer = (A & B)\n",
    "print(answer)"
   ]
  },
  {
   "cell_type": "code",
   "execution_count": 53,
   "metadata": {},
   "outputs": [
    {
     "name": "stdout",
     "output_type": "stream",
     "text": [
      "['Python', 'R']\n"
     ]
    }
   ],
   "source": [
    "d = {'Python':40, 'R':45}\n",
    "print(list(d.keys()))"
   ]
  },
  {
   "cell_type": "code",
   "execution_count": 54,
   "metadata": {},
   "outputs": [
    {
     "ename": "IndentationError",
     "evalue": "expected an indented block (<ipython-input-54-827fea9b8711>, line 4)",
     "output_type": "error",
     "traceback": [
      "\u001b[1;36m  File \u001b[1;32m\"<ipython-input-54-827fea9b8711>\"\u001b[1;36m, line \u001b[1;32m4\u001b[0m\n\u001b[1;33m    print('Yes')\u001b[0m\n\u001b[1;37m        ^\u001b[0m\n\u001b[1;31mIndentationError\u001b[0m\u001b[1;31m:\u001b[0m expected an indented block\n"
     ]
    }
   ],
   "source": [
    "X = 12\n",
    "\n",
    "if (X > 10 & X < 15):\n",
    "print('Yes')\n",
    "else:\n",
    "print('No')"
   ]
  },
  {
   "cell_type": "code",
   "execution_count": 55,
   "metadata": {},
   "outputs": [
    {
     "data": {
      "text/plain": [
       "[-2, -6, -15, -4, -8]"
      ]
     },
     "execution_count": 55,
     "metadata": {},
     "output_type": "execute_result"
    }
   ],
   "source": [
    "L1 = [10, 20, 30, 24, 18]\n",
    "L2 = [8, 14, 15, 20, 10]\n",
    "L3=[]\n",
    "for  i in range(len(L1)):\n",
    "    L3.append(L2[i] -L1[i])\n",
    "L3"
   ]
  },
  {
   "cell_type": "code",
   "execution_count": 56,
   "metadata": {},
   "outputs": [
    {
     "name": "stdout",
     "output_type": "stream",
     "text": [
      "['FUN', 'FOO', 'BAR']\n"
     ]
    }
   ],
   "source": [
    "input = ['fun', 'Foo', 'BaR']\n",
    "  \n",
    "# Converting\n",
    "lst = [x.upper() for x in input]\n",
    "  \n",
    "# printing output\n",
    "print(lst)"
   ]
  },
  {
   "cell_type": "code",
   "execution_count": 57,
   "metadata": {},
   "outputs": [
    {
     "name": "stdout",
     "output_type": "stream",
     "text": [
      "0\n",
      "1\n",
      "2\n"
     ]
    }
   ],
   "source": [
    "d = {0: 'Fish', 1: 'Bird', 2: 'Mammal'}\n",
    "for i in d:\n",
    "    print(i)"
   ]
  },
  {
   "cell_type": "code",
   "execution_count": 58,
   "metadata": {},
   "outputs": [],
   "source": [
    "i =['VARMA', 'raj', 'Gupta', 'SaNdeeP']\n"
   ]
  },
  {
   "cell_type": "code",
   "execution_count": 59,
   "metadata": {},
   "outputs": [
    {
     "data": {
      "text/plain": [
       "[1, 4, 9, 16]"
      ]
     },
     "execution_count": 59,
     "metadata": {},
     "output_type": "execute_result"
    }
   ],
   "source": [
    "n=4\n",
    "p=[]\n",
    "for i in range(1,n+1):\n",
    "    p.append(pow(i,2))\n",
    "    \n",
    "p"
   ]
  },
  {
   "cell_type": "code",
   "execution_count": 60,
   "metadata": {},
   "outputs": [
    {
     "name": "stdout",
     "output_type": "stream",
     "text": [
      "['old', 'apple', 'item', 'euphoria']\n",
      "['old', 'apple', 'item', 'euphoria']\n"
     ]
    }
   ],
   "source": [
    "input=['wood','old','apple','big','item','euphoria']\n",
    "word3=[]\n",
    "for word in input:\n",
    "    if word[0] in 'aeiou':\n",
    "        word3.append(word)\n",
    "print(word3)\n",
    "list1=[word for word in input if word[0] in 'aeiou']\n",
    "print(list1)"
   ]
  },
  {
   "cell_type": "code",
   "execution_count": 61,
   "metadata": {},
   "outputs": [
    {
     "name": "stdout",
     "output_type": "stream",
     "text": [
      "['ad', 'ae', 'af', 'bd', 'be', 'bf', 'cd', 'ce', 'cf']\n"
     ]
    }
   ],
   "source": [
    "print([i+j for i in \"abc\" for j in \"def\"])"
   ]
  },
  {
   "cell_type": "code",
   "execution_count": 62,
   "metadata": {},
   "outputs": [
    {
     "name": "stdout",
     "output_type": "stream",
     "text": [
      "{'A': 'aaa', 'C': 'ccc', 'B': 'bbb', 'D': 'ddd'}\n"
     ]
    }
   ],
   "source": [
    "d = {x.upper(): x*3 for x in 'acbd'}\n",
    "print(d)"
   ]
  },
  {
   "cell_type": "code",
   "execution_count": 30,
   "metadata": {},
   "outputs": [
    {
     "ename": "TypeError",
     "evalue": "'list' object is not callable",
     "output_type": "error",
     "traceback": [
      "\u001b[1;31m---------------------------------------------------------------------------\u001b[0m",
      "\u001b[1;31mTypeError\u001b[0m                                 Traceback (most recent call last)",
      "\u001b[1;32m<ipython-input-30-0a06a80cdcdb>\u001b[0m in \u001b[0;36m<module>\u001b[1;34m\u001b[0m\n\u001b[1;32m----> 1\u001b[1;33m \u001b[0ma\u001b[0m\u001b[1;33m=\u001b[0m\u001b[0minput\u001b[0m\u001b[1;33m(\u001b[0m\u001b[1;34m\"Enter a value:\"\u001b[0m\u001b[1;33m)\u001b[0m\u001b[1;33m\u001b[0m\u001b[1;33m\u001b[0m\u001b[0m\n\u001b[0m",
      "\u001b[1;31mTypeError\u001b[0m: 'list' object is not callable"
     ]
    }
   ],
   "source": [
    "a=input(\"Enter a value:\")\n"
   ]
  },
  {
   "cell_type": "code",
   "execution_count": 68,
   "metadata": {},
   "outputs": [
    {
     "data": {
      "text/plain": [
       "35"
      ]
     },
     "execution_count": 68,
     "metadata": {},
     "output_type": "execute_result"
    }
   ],
   "source": [
    "def func(x = 1 ,y = 2):\n",
    "    z = x * y + x + y\n",
    "    return z\n",
    "\n",
    "func(2, func(3))"
   ]
  },
  {
   "cell_type": "code",
   "execution_count": 69,
   "metadata": {},
   "outputs": [
    {
     "data": {
      "text/plain": [
       "9996"
      ]
     },
     "execution_count": 69,
     "metadata": {},
     "output_type": "execute_result"
    }
   ],
   "source": [
    "min = (lambda x, y: x if x < y else y)\n",
    "min(101*99, 102*98)"
   ]
  },
  {
   "cell_type": "code",
   "execution_count": 79,
   "metadata": {},
   "outputs": [
    {
     "ename": "TypeError",
     "evalue": "'list' object is not callable",
     "output_type": "error",
     "traceback": [
      "\u001b[1;31m---------------------------------------------------------------------------\u001b[0m",
      "\u001b[1;31mTypeError\u001b[0m                                 Traceback (most recent call last)",
      "\u001b[1;32m<ipython-input-79-20b33ac6ef0a>\u001b[0m in \u001b[0;36m<module>\u001b[1;34m\u001b[0m\n\u001b[1;32m----> 1\u001b[1;33m \u001b[0mnum\u001b[0m \u001b[1;33m=\u001b[0m \u001b[0mint\u001b[0m\u001b[1;33m(\u001b[0m\u001b[0minput\u001b[0m\u001b[1;33m(\u001b[0m\u001b[1;34m\"Enter the upper limit \"\u001b[0m\u001b[1;33m)\u001b[0m\u001b[1;33m)\u001b[0m\u001b[1;33m\u001b[0m\u001b[1;33m\u001b[0m\u001b[0m\n\u001b[0m\u001b[0;32m      2\u001b[0m \u001b[1;33m\u001b[0m\u001b[0m\n\u001b[0;32m      3\u001b[0m \u001b[0mi\u001b[0m\u001b[1;33m=\u001b[0m\u001b[1;36m1\u001b[0m\u001b[1;33m\u001b[0m\u001b[1;33m\u001b[0m\u001b[0m\n\u001b[0;32m      4\u001b[0m \u001b[1;33m\u001b[0m\u001b[0m\n\u001b[0;32m      5\u001b[0m \u001b[1;32mwhile\u001b[0m \u001b[0mi\u001b[0m\u001b[1;33m<=\u001b[0m \u001b[0mnum\u001b[0m\u001b[1;33m:\u001b[0m\u001b[1;33m\u001b[0m\u001b[1;33m\u001b[0m\u001b[0m\n",
      "\u001b[1;31mTypeError\u001b[0m: 'list' object is not callable"
     ]
    }
   ],
   "source": [
    "number = int(input(\"Enter the upper limit\"))\n",
    "i=1\n",
    "while i <= number:\n",
    "    if i%17 == 0:\n",
    "        print(i)\n",
    "    i+=1"
   ]
  },
  {
   "cell_type": "code",
   "execution_count": 80,
   "metadata": {},
   "outputs": [
    {
     "ename": "TypeError",
     "evalue": "'list' object is not callable",
     "output_type": "error",
     "traceback": [
      "\u001b[1;31m---------------------------------------------------------------------------\u001b[0m",
      "\u001b[1;31mTypeError\u001b[0m                                 Traceback (most recent call last)",
      "\u001b[1;32m<ipython-input-80-20b33ac6ef0a>\u001b[0m in \u001b[0;36m<module>\u001b[1;34m\u001b[0m\n\u001b[1;32m----> 1\u001b[1;33m \u001b[0mnum\u001b[0m \u001b[1;33m=\u001b[0m \u001b[0mint\u001b[0m\u001b[1;33m(\u001b[0m\u001b[0minput\u001b[0m\u001b[1;33m(\u001b[0m\u001b[1;34m\"Enter the upper limit \"\u001b[0m\u001b[1;33m)\u001b[0m\u001b[1;33m)\u001b[0m\u001b[1;33m\u001b[0m\u001b[1;33m\u001b[0m\u001b[0m\n\u001b[0m\u001b[0;32m      2\u001b[0m \u001b[1;33m\u001b[0m\u001b[0m\n\u001b[0;32m      3\u001b[0m \u001b[0mi\u001b[0m\u001b[1;33m=\u001b[0m\u001b[1;36m1\u001b[0m\u001b[1;33m\u001b[0m\u001b[1;33m\u001b[0m\u001b[0m\n\u001b[0;32m      4\u001b[0m \u001b[1;33m\u001b[0m\u001b[0m\n\u001b[0;32m      5\u001b[0m \u001b[1;32mwhile\u001b[0m \u001b[0mi\u001b[0m\u001b[1;33m<=\u001b[0m \u001b[0mnum\u001b[0m\u001b[1;33m:\u001b[0m\u001b[1;33m\u001b[0m\u001b[1;33m\u001b[0m\u001b[0m\n",
      "\u001b[1;31mTypeError\u001b[0m: 'list' object is not callable"
     ]
    }
   ],
   "source": [
    "num = int(input(\"Enter the upper limit \"))\n",
    "\n",
    "i=1\n",
    "\n",
    "while i<= num:\n",
    "    if i% 17 == 0:\n",
    "        print(i)\n",
    "    i = i + 1"
   ]
  },
  {
   "cell_type": "code",
   "execution_count": 92,
   "metadata": {},
   "outputs": [
    {
     "data": {
      "text/plain": [
       "{6: [1, 2, 3, 6],\n",
       " 98: [1, 2, 7, 14, 49, 98],\n",
       " 34: [1, 2, 17, 34],\n",
       " 45: [1, 3, 5, 9, 15, 45],\n",
       " 64: [1, 2, 4, 8, 16, 32, 64],\n",
       " 7: [1, 7],\n",
       " 2: [1, 2],\n",
       " 5: [1, 5],\n",
       " 78: [1, 2, 3, 6, 13, 26, 39, 78],\n",
       " 90: [1, 2, 3, 5, 6, 9, 10, 15, 18, 30, 45, 90],\n",
       " 324: [1, 2, 3, 4, 6, 9, 12, 18, 27, 36, 54, 81, 108, 162, 324],\n",
       " 111: [1, 3, 37, 111],\n",
       " 657: [1, 3, 9, 73, 219, 657],\n",
       " 438: [1, 2, 3, 6, 73, 146, 219, 438]}"
      ]
     },
     "execution_count": 92,
     "metadata": {},
     "output_type": "execute_result"
    }
   ],
   "source": [
    "sample_list = [6, 98, 34, 45, 64, 7, 2, 5, 78, 90, 324, 111, 657, 438]\n",
    "sol={}\n",
    "\n",
    "# write code here \n",
    "for k in sample_list:\n",
    "    value=[]\n",
    "    for i in range(1,k+1):\n",
    "        if (k%i)==0:\n",
    "            value.append(i)\n",
    "    \n",
    "    sol[k]=value;\n",
    "sol\n",
    "    "
   ]
  },
  {
   "cell_type": "code",
   "execution_count": 95,
   "metadata": {},
   "outputs": [
    {
     "name": "stdout",
     "output_type": "stream",
     "text": [
      "{'x', 'm', 'f', 'u', 'g', 'n', 'a', 'l', 's', 'j', 'i', 'z', 'd', 'e', ' ', 'k', 'r', 'q', 'y', 't', 'w', 'P', 'b', 'v', 'h', 'o', 'c'}\n"
     ]
    }
   ],
   "source": [
    "sample_sentence = \"Pack my box with five dozen liquor jugs\"\n",
    " \n",
    "# write code here \n",
    "j=set(sample_sentence)\n",
    "print(j)\n"
   ]
  },
  {
   "cell_type": "code",
   "execution_count": 1,
   "metadata": {},
   "outputs": [
    {
     "data": {
      "text/plain": [
       "36"
      ]
     },
     "execution_count": 1,
     "metadata": {},
     "output_type": "execute_result"
    }
   ],
   "source": [
    "class A :\n",
    "    x = 10\n",
    "    def __init__(self, y,z):\n",
    "        self.y = y\n",
    "        self.z = z\n",
    "           \n",
    "    def update_y(self):\n",
    "        self.y = self.y * self.x\n",
    "        self.z = self.z * self.x\n",
    "        \n",
    "A1 = A(3,4)\n",
    "A2 = A(5,6)\n",
    "\n",
    "A1.update_y()\n",
    "A1.y + A2.z"
   ]
  },
  {
   "cell_type": "code",
   "execution_count": 3,
   "metadata": {},
   "outputs": [
    {
     "data": {
      "text/plain": [
       "33"
      ]
     },
     "execution_count": 3,
     "metadata": {},
     "output_type": "execute_result"
    }
   ],
   "source": [
    "class A :\n",
    "    x = 10\n",
    "    def __init__(self, y,z):\n",
    "        self.y = y\n",
    "        self.z = z\n",
    "           \n",
    "    def update_y(self):\n",
    "        self.y = self.y * self.z\n",
    "\n",
    "        \n",
    "        \n",
    "A1 = A(3,4)\n",
    "A2 = A(5,6)\n",
    "\n",
    "A.x = 30\n",
    "A1.y + A2.x\n"
   ]
  },
  {
   "cell_type": "code",
   "execution_count": null,
   "metadata": {},
   "outputs": [],
   "source": [
    "class A:\n",
    "    def __init__(self, x=1):\n",
    "        self.x = x\n",
    "class B(A):\n",
    "    def __init__(self,y =2):\n",
    "        super().__init__()\n",
    "        self.y = y\n",
    "\n",
    "def main():\n",
    "    b = B()\n",
    "    print(b.x,b.y)\n",
    "main()"
   ]
  },
  {
   "cell_type": "code",
   "execution_count": null,
   "metadata": {},
   "outputs": [],
   "source": [
    "a=input(\"Please enter n numbers followed by comma:\");\n",
    "b = [int(i) for i in a.split(',')]\n",
    "\n",
    "count= {x: b.count(x) for x in b}\n",
    "print(count)\n"
   ]
  },
  {
   "cell_type": "code",
   "execution_count": 3,
   "metadata": {},
   "outputs": [
    {
     "name": "stdout",
     "output_type": "stream",
     "text": [
      "[1, 2, 3, 4, 5, 6]\n"
     ]
    }
   ],
   "source": [
    "print(b)"
   ]
  },
  {
   "cell_type": "code",
   "execution_count": 25,
   "metadata": {},
   "outputs": [
    {
     "name": "stdout",
     "output_type": "stream",
     "text": [
      "9\n"
     ]
    }
   ],
   "source": [
    "a=[1, 2, 3, 4, 5, 6]\n",
    "greater = (lambda x,y: x if x > y else y)\n",
    "print(greater(9,3))\n"
   ]
  },
  {
   "cell_type": "code",
   "execution_count": 4,
   "metadata": {},
   "outputs": [
    {
     "ename": "SyntaxError",
     "evalue": "invalid syntax (<ipython-input-4-5033b78920bd>, line 10)",
     "output_type": "error",
     "traceback": [
      "\u001b[1;36m  File \u001b[1;32m\"<ipython-input-4-5033b78920bd>\"\u001b[1;36m, line \u001b[1;32m10\u001b[0m\n\u001b[1;33m    factor={y:z for y in b [for z in range(1,y+1) if(y%z==0)] }\u001b[0m\n\u001b[1;37m                              ^\u001b[0m\n\u001b[1;31mSyntaxError\u001b[0m\u001b[1;31m:\u001b[0m invalid syntax\n"
     ]
    }
   ],
   "source": [
    "#this program is to find factors of a number\n",
    "a=input(\"Please enter n numbers followed by comma:\");\n",
    "b = [int(i) for i in a.split(',')]\n",
    "f=[]\n",
    "for y in b:\n",
    "    for z in range(1,y+1):\n",
    "        if(y%z==0):\n",
    "            f.append(z)\n",
    "    print(f)\n",
    "factor={y:[z for z in range(1,y+1) if(y%z==0)] for y in b }\n",
    "\n",
    "print(factor)"
   ]
  },
  {
   "cell_type": "code",
   "execution_count": 15,
   "metadata": {},
   "outputs": [
    {
     "name": "stdout",
     "output_type": "stream",
     "text": [
      "['WOOD', 'OLD', 'APPLE', 'BIG', 'ITEM', 'EUPHORIA']\n"
     ]
    }
   ],
   "source": [
    "input=['wood','old','apple','big','item','euphoria']\n",
    "#preethi=input(\"enter values by comma separator\")\n",
    "#pri=[str(preethi) for x in preethi.split(',')]\n",
    "i2=[]\n",
    "for i in input:\n",
    "    \n",
    "    i2.append(i.upper())\n",
    "print(i2)"
   ]
  },
  {
   "cell_type": "code",
   "execution_count": 26,
   "metadata": {},
   "outputs": [
    {
     "ename": "TypeError",
     "evalue": "'list' object is not callable",
     "output_type": "error",
     "traceback": [
      "\u001b[1;31m---------------------------------------------------------------------------\u001b[0m",
      "\u001b[1;31mTypeError\u001b[0m                                 Traceback (most recent call last)",
      "\u001b[1;32m<ipython-input-26-f2ed23b765f4>\u001b[0m in \u001b[0;36m<module>\u001b[1;34m\u001b[0m\n\u001b[1;32m----> 1\u001b[1;33m \u001b[0ma\u001b[0m\u001b[1;33m=\u001b[0m\u001b[0minput\u001b[0m\u001b[1;33m(\u001b[0m\u001b[1;34m\"Please enter n numbers followed by comma:\"\u001b[0m\u001b[1;33m)\u001b[0m\u001b[1;33m;\u001b[0m\u001b[1;33m\u001b[0m\u001b[1;33m\u001b[0m\u001b[0m\n\u001b[0m\u001b[0;32m      2\u001b[0m \u001b[0mb\u001b[0m \u001b[1;33m=\u001b[0m \u001b[1;33m[\u001b[0m\u001b[0mint\u001b[0m\u001b[1;33m(\u001b[0m\u001b[0mi\u001b[0m\u001b[1;33m)\u001b[0m \u001b[1;32mfor\u001b[0m \u001b[0mi\u001b[0m \u001b[1;32min\u001b[0m \u001b[0ma\u001b[0m\u001b[1;33m.\u001b[0m\u001b[0msplit\u001b[0m\u001b[1;33m(\u001b[0m\u001b[1;34m','\u001b[0m\u001b[1;33m)\u001b[0m\u001b[1;33m]\u001b[0m\u001b[1;33m\u001b[0m\u001b[1;33m\u001b[0m\u001b[0m\n",
      "\u001b[1;31mTypeError\u001b[0m: 'list' object is not callable"
     ]
    }
   ],
   "source": [
    "a=input(\"Please enter n numbers followed by comma:\");\n",
    "b = [int(i) for i in a.split(',')]"
   ]
  },
  {
   "cell_type": "code",
   "execution_count": 2,
   "metadata": {},
   "outputs": [
    {
     "name": "stdout",
     "output_type": "stream",
     "text": [
      "Enter your user Id: ABC\n",
      "Welcome back\n",
      "Invalid user name, try again: \n"
     ]
    }
   ],
   "source": [
    "User_id=input(\"Enter your user Id: \")\n",
    "while User_id == \"ABC\":\n",
    "    User_id=input(\"Invalid user name, try again: \") \n",
    "    break;\n",
    "print(\"Welcome back\")"
   ]
  },
  {
   "cell_type": "code",
   "execution_count": 5,
   "metadata": {},
   "outputs": [
    {
     "name": "stdout",
     "output_type": "stream",
     "text": [
      "enter salary\n",
      "5000\n",
      "enter years of your service\n",
      "6\n",
      "bonus is 30000\n"
     ]
    }
   ],
   "source": [
    "print (\"enter salary\")\n",
    "salary = int(input())\n",
    "print (\"enter years of your service\")\n",
    "years = int(input())\n",
    "if years>5:\n",
    "    print (\"bonus is\", 6*salary)\n",
    "else:\n",
    "    print (\"no bonus\")"
   ]
  },
  {
   "cell_type": "code",
   "execution_count": 14,
   "metadata": {},
   "outputs": [
    {
     "name": "stdout",
     "output_type": "stream",
     "text": [
      "For how many hours Mr Ravi worked? : 10\n",
      " Ravi will get 100 rs\n"
     ]
    }
   ],
   "source": [
    "x = int(input(\"For how many hours Mr Ravi worked? : \"))\n",
    "\n",
    "if x ==8 or x==10:\n",
    "    \n",
    "    print (\" Ravi will get 100 rs\")\n",
    "\n",
    "else:\n",
    "    print (\" Ravi will not get 0\")"
   ]
  },
  {
   "cell_type": "code",
   "execution_count": 11,
   "metadata": {},
   "outputs": [
    {
     "name": "stdout",
     "output_type": "stream",
     "text": [
      "enter no. -235\n",
      "578\n"
     ]
    }
   ],
   "source": [
    "n=int(input('enter no. '))\n",
    "rev=0\n",
    "while n>0 or n<0:\n",
    "    rem=n%10\n",
    "    rev=(rev*10)+rem\n",
    "    n=int(n/10)\n",
    "print(rev)"
   ]
  },
  {
   "cell_type": "code",
   "execution_count": 25,
   "metadata": {},
   "outputs": [
    {
     "name": "stdout",
     "output_type": "stream",
     "text": [
      "enter a string: preethi\n"
     ]
    },
    {
     "data": {
      "text/plain": [
       "{'p': 1, 'r': 1, 'e': 2, 't': 1, 'h': 1, 'i': 1}"
      ]
     },
     "execution_count": 25,
     "metadata": {},
     "output_type": "execute_result"
    }
   ],
   "source": [
    "a=input(\"enter a string: \")\n",
    "dic={x:a.count(x) for x in a}\n",
    "dic\n",
    "#count={x:[z+=1 for z in range(1,len(x)+1) if y[z]==x[z]] x for i in a}"
   ]
  },
  {
   "cell_type": "code",
   "execution_count": 41,
   "metadata": {},
   "outputs": [
    {
     "name": "stdout",
     "output_type": "stream",
     "text": [
      "enter number of employees:2\n",
      "enter account number2\n",
      "enter Name123\n",
      "enter Balance50\n",
      "your balance is low:123\n",
      "enter account number132\n",
      "enter Name123\n",
      "enter Balance150\n"
     ]
    }
   ],
   "source": [
    "i=int(input(\"enter number of employees:\"))\n",
    "for x in range(1,i+1):\n",
    "    Account_no=(input(\"enter account number\"))\n",
    "    Name=input(\"enter Name\")\n",
    "    Balance=int(input(\"enter Balance\"))\n",
    "    if Balance<=100:\n",
    "        print(\"your balance is low:\"+Name)\n",
    "    else:\n",
    "        print(\"you are eligible\")\n",
    "    "
   ]
  },
  {
   "cell_type": "code",
   "execution_count": 53,
   "metadata": {},
   "outputs": [
    {
     "name": "stdout",
     "output_type": "stream",
     "text": [
      "1 \n",
      "2 2 \n",
      "3 3 3 \n"
     ]
    }
   ],
   "source": [
    "n=3\n",
    "m=3\n",
    "a=[]\n",
    "for i in range(1,n+1):\n",
    "    for j in range(1,i+1):\n",
    "        print(i,end=\" \")\n",
    "    print(\"\")\n",
    "    "
   ]
  },
  {
   "cell_type": "code",
   "execution_count": 1,
   "metadata": {},
   "outputs": [
    {
     "ename": "SyntaxError",
     "evalue": "unexpected EOF while parsing (<ipython-input-1-6293c10bc054>, line 4)",
     "output_type": "error",
     "traceback": [
      "\u001b[1;36m  File \u001b[1;32m\"<ipython-input-1-6293c10bc054>\"\u001b[1;36m, line \u001b[1;32m4\u001b[0m\n\u001b[1;33m    \u001b[0m\n\u001b[1;37m    ^\u001b[0m\n\u001b[1;31mSyntaxError\u001b[0m\u001b[1;31m:\u001b[0m unexpected EOF while parsing\n"
     ]
    }
   ],
   "source": [
    "i=input(\"enter number of employees:\")\n",
    "for x in i:\n",
    "    \n",
    "    "
   ]
  },
  {
   "cell_type": "code",
   "execution_count": 4,
   "metadata": {},
   "outputs": [],
   "source": [
    "twister='Betty Bot*ter bought some but*ter But she Said the butter is bit*ter'\n",
    "a=twister.split(' ')"
   ]
  },
  {
   "cell_type": "code",
   "execution_count": 5,
   "metadata": {},
   "outputs": [
    {
     "name": "stdout",
     "output_type": "stream",
     "text": [
      "['Betty', 'Bot*ter', 'bought', 'some', 'but*ter', 'But', 'she', 'Said', 'the', 'butter', 'is', 'bit*ter']\n"
     ]
    }
   ],
   "source": [
    "print(a)"
   ]
  },
  {
   "cell_type": "code",
   "execution_count": 8,
   "metadata": {},
   "outputs": [
    {
     "name": "stdout",
     "output_type": "stream",
     "text": [
      "Bot*ter\n",
      "but*ter\n",
      "bit*ter\n"
     ]
    }
   ],
   "source": [
    "for i in a:\n",
    "    if '*' in i:\n",
    "        print(i);"
   ]
  },
  {
   "cell_type": "code",
   "execution_count": 19,
   "metadata": {},
   "outputs": [
    {
     "ename": "SyntaxError",
     "evalue": "invalid syntax (<ipython-input-19-ab1efe5a85c4>, line 3)",
     "output_type": "error",
     "traceback": [
      "\u001b[1;36m  File \u001b[1;32m\"<ipython-input-19-ab1efe5a85c4>\"\u001b[1;36m, line \u001b[1;32m3\u001b[0m\n\u001b[1;33m    x=lambda(i:i for i in a if '#' in i)\u001b[0m\n\u001b[1;37m            ^\u001b[0m\n\u001b[1;31mSyntaxError\u001b[0m\u001b[1;31m:\u001b[0m invalid syntax\n"
     ]
    }
   ],
   "source": [
    "tweet =\"All our #dreams can come #true if we have the #courage to #pursue them\"\n",
    "a=tweet.split(' ')\n",
    "x=lambda(i:i for i in a if '#' in i)\n",
    "print(x)\n",
    "for i in a:\n",
    "    if '#' in i:\n",
    "        print(i);"
   ]
  },
  {
   "cell_type": "code",
   "execution_count": 12,
   "metadata": {},
   "outputs": [
    {
     "name": "stdout",
     "output_type": "stream",
     "text": [
      "#dreams\n",
      "#true\n",
      "#courage\n",
      "#pursue\n"
     ]
    }
   ],
   "source": [
    "Exercise¶\n",
    "\n",
    "** Given this nested list, use indexing to grab the word \"hello\" **\n",
    "\n",
    "lst = [1,2,[3,4],[5,[100,200,['hello']],23,11],1,7]"
   ]
  },
  {
   "cell_type": "code",
   "execution_count": 25,
   "metadata": {},
   "outputs": [
    {
     "data": {
      "text/plain": [
       "'hello'"
      ]
     },
     "execution_count": 25,
     "metadata": {},
     "output_type": "execute_result"
    }
   ],
   "source": [
    "lst = [1,2,[3,4],[5,[100,200,['hello']],23,11],1,7]\n",
    "lst[3][1][2][0]"
   ]
  },
  {
   "cell_type": "code",
   "execution_count": 5,
   "metadata": {},
   "outputs": [
    {
     "data": {
      "text/plain": [
       "'hello'"
      ]
     },
     "execution_count": 5,
     "metadata": {},
     "output_type": "execute_result"
    }
   ],
   "source": [
    "d = {'k1':[1,2,3,{'tricky':['oh','man','inception',{'target':[1,2,3,'hello']}]}]}\n",
    "d['k1'][3]['tricky'][3]['target'][3]\n"
   ]
  },
  {
   "cell_type": "code",
   "execution_count": 3,
   "metadata": {},
   "outputs": [
    {
     "name": "stdout",
     "output_type": "stream",
     "text": [
      "['oh', 'man', 'inception', {'target': [1, 2, 3, 'hello']}]\n"
     ]
    }
   ],
   "source": [
    "\n",
    "for x,y in dict1.items():\n",
    "    list2=y\n",
    "print(list2)"
   ]
  },
  {
   "cell_type": "code",
   "execution_count": 7,
   "metadata": {},
   "outputs": [
    {
     "name": "stdout",
     "output_type": "stream",
     "text": [
      "['pen', 'paper', 'CD', 'DVD', 'Casette']\n"
     ]
    }
   ],
   "source": [
    "shopping_cart =['pen','paper','pen','CD','paper','DVD','Casette','pen']\n",
    "# Objective: remove the duplicates from the shopping_cart\n",
    "x=[]\n",
    "for a in shopping_cart:\n",
    "    if a not in x:\n",
    "        x.append(a)\n",
    "print(x)"
   ]
  },
  {
   "cell_type": "code",
   "execution_count": 8,
   "metadata": {},
   "outputs": [
    {
     "name": "stdout",
     "output_type": "stream",
     "text": [
      "small ticket\n"
     ]
    }
   ],
   "source": [
    "def caught_speeding(speed,isBirthday):\n",
    "    if isBirthday==True:\n",
    "        speeding=speed-5\n",
    "    else:\n",
    "        speeding=speed\n",
    "    if speeding >= 81:\n",
    "        print(\"Big tiket\")\n",
    "    elif speeding >=61:\n",
    "        print(\"small ticket\")\n",
    "    else:\n",
    "        print(\"No ticket\")\n",
    "caught_speeding(81,True)"
   ]
  },
  {
   "cell_type": "code",
   "execution_count": 14,
   "metadata": {},
   "outputs": [
    {
     "name": "stdout",
     "output_type": "stream",
     "text": [
      "lalaland.com\n"
     ]
    }
   ],
   "source": [
    "def getDomain(email):\n",
    "    print(email.split('@')[1])\n",
    "\n",
    "getDomain('rajan@lalaland.com') \n"
   ]
  },
  {
   "cell_type": "code",
   "execution_count": 19,
   "metadata": {},
   "outputs": [
    {
     "name": "stdout",
     "output_type": "stream",
     "text": [
      "5.5\n"
     ]
    }
   ],
   "source": [
    "shopping_list = [\"banana\", \"orange\", \"apple\"]\n",
    "\n",
    "stock = {\n",
    "    \"banana\": 6,\n",
    "    \"apple\": 0,\n",
    "    \"orange\": 32,\n",
    "    \"pear\": 15\n",
    "}\n",
    "\n",
    "prices = {\n",
    "    \"banana\": 4,\n",
    "    \"apple\": 2,\n",
    "    \"orange\": 1.5,\n",
    "    \"pear\": 3\n",
    "}\n",
    "a=0\n",
    "for i in shopping_list:\n",
    "    if  i in stock and stock[i] >0 :\n",
    "        a =a+ prices[i]\n",
    "print(a)\n",
    "        "
   ]
  },
  {
   "cell_type": "code",
   "execution_count": 4,
   "metadata": {},
   "outputs": [
    {
     "name": "stdout",
     "output_type": "stream",
     "text": [
      "enter four digit number1234\n",
      "4\n",
      "enter valid even2 odd 2 zero0 digit number\n"
     ]
    }
   ],
   "source": [
    "#Write A program to accept Four digit\n",
    "#number from user and count zero , odd\n",
    "#and even digits from the entered number.\n",
    "four_digit=list(input(\"enter four digit number\"))\n",
    "print(len(four_digit))\n",
    "zero=0\n",
    "odd=0\n",
    "even=0\n",
    "if len(four_digit)==4:\n",
    "    \n",
    "    for i in four_digit:\n",
    "        z=int(i)\n",
    "        if z==0:\n",
    "            zero=zero+1\n",
    "        elif z%2==0:\n",
    "            even=even+1\n",
    "    \n",
    "        else:\n",
    "            odd=odd+1\n",
    "    print(f\"\"\"enter valid even{even} odd {odd} zero{zero} digit number\"\"\")\n",
    "\n",
    "else:\n",
    "    print(f\"\"\"enter valid even{even} odd {odd} zero{zero} digit number\"\"\")\n"
   ]
  },
  {
   "cell_type": "code",
   "execution_count": 2,
   "metadata": {},
   "outputs": [
    {
     "name": "stdout",
     "output_type": "stream",
     "text": [
      "enter  ‘n’ numbers from user12,23,45\n",
      "45\n"
     ]
    }
   ],
   "source": [
    "#Write a program to accept ‘n’ numbers\n",
    "#from user , store these numbers into an\n",
    "#array. Find out maximum and minimum\n",
    "#number from an Array.\n",
    "number=input(\"enter  ‘n’ numbers from user\")\n",
    "numb_list=number.split(',')\n",
    "print(max(numb_list))\n"
   ]
  },
  {
   "cell_type": "code",
   "execution_count": 1,
   "metadata": {},
   "outputs": [
    {
     "name": "stdout",
     "output_type": "stream",
     "text": [
      "how many numbers?2\n",
      "enter the numbers12\n",
      "enter the numbers23\n",
      "[12, 23]\n",
      "23\n",
      "12\n"
     ]
    }
   ],
   "source": [
    "arr = []\n",
    "num = int(input(\"how many numbers?\"))\n",
    "\n",
    "for i in range(num):\n",
    "    numbers = int(input(\"enter the numbers\"))\n",
    "    arr.append(numbers)\n",
    "print(max(arr))\n",
    "print(min(arr))"
   ]
  },
  {
   "cell_type": "code",
   "execution_count": 2,
   "metadata": {},
   "outputs": [
    {
     "name": "stdout",
     "output_type": "stream",
     "text": [
      "Please select an option\n",
      " 1 - ADD BOOK INFORMATION \n",
      " 2 - DISPLAY BOOK INFORMATION \n",
      " 3 - LIST ALL BOOKS OF GIVEN AUTHOR \n",
      " 4 - LIST THE COUNT OF BOOKS IN THE LIBRARY \n",
      " E - EXIT\n",
      "E\n"
     ]
    }
   ],
   "source": [
    "\n",
    "\"\"\"\n",
    "Plase select any one input to know/upate books in library\n",
    "1: Add book information\n",
    "2: Display book information\n",
    "3: List all books of given author\n",
    "4: List the count of books in the library\n",
    "5: Exit\n",
    "\"\"\"\n",
    "books=[]\n",
    "while True:\n",
    "    menu=input(\"Please select an option\\n 1 - ADD BOOK INFORMATION \\n 2 - DISPLAY BOOK INFORMATION \\n 3 - LIST ALL BOOKS OF GIVEN AUTHOR \\n 4 - LIST THE COUNT OF BOOKS IN THE LIBRARY \\n E - EXIT\\n\")\n",
    "    if menu=='E':\n",
    "        break\n",
    "    elif int(menu) == 1:\n",
    "        book={}\n",
    "        book['Title']=input(\"Please enter title of book\")\n",
    "        book['Author']=input(\"Please enter Author details\")\n",
    "        books.append(book)\n",
    "    elif int(menu) == 2:\n",
    "        print(\"we have below books\")\n",
    "        for i in books:\n",
    "            print(f\"Book-{i['Title']}, Author-{i['Author']}\")\n",
    "    elif int(menu) == 3:\n",
    "        author=input(\"Plese enter author name whose books u want to check\")\n",
    "        book_author=False\n",
    "        for j in books:\n",
    "            if j['Author'].lower()==author.lower():\n",
    "                print(f\"Book-{i['Title']}, Author-{i['Author']}\")\n",
    "                book_author=True\n",
    "            else:\n",
    "                print(\"The author ur searching is not in library\")\n",
    "    elif int(menu) == 4:\n",
    "        print(f\"count of books in the library {len(books)}\")\n",
    "            \n",
    "    else:\n",
    "        print(\"your input is not valid\")\n"
   ]
  },
  {
   "cell_type": "code",
   "execution_count": 4,
   "metadata": {},
   "outputs": [
    {
     "ename": "SyntaxError",
     "evalue": "'break' outside loop (<ipython-input-4-ea2fba51136c>, line 5)",
     "output_type": "error",
     "traceback": [
      "\u001b[1;36m  File \u001b[1;32m\"<ipython-input-4-ea2fba51136c>\"\u001b[1;36m, line \u001b[1;32m5\u001b[0m\n\u001b[1;33m    newbook['title']=input(\"enter title\")\u001b[0m\n\u001b[1;37m           ^\u001b[0m\n\u001b[1;31mSyntaxError\u001b[0m\u001b[1;31m:\u001b[0m 'break' outside loop\n"
     ]
    }
   ],
   "source": [
    "if number==5:\n",
    "    break;\n",
    "elif number==1: \n",
    "    newbook={}\n",
    "    newbook['title']=input(\"enter title\")\n",
    "    newbook['author']=input(\"enter author\")\n",
    "    books.append(newbook)\n",
    "elif number==2: \n",
    "    for x,y in books.items():\n",
    "        print(x,y)\n",
    "elif number==3: \n",
    "    author_name=input(\"enter author name\")\n",
    "    found=True\n",
    "    for book in books:\n",
    "        if book['author'].lower()==author_name.lower():\n",
    "             print(f\"Book - {book['Title']}, Author - {book['Author']}\")\n",
    "       \n",
    "elif number:\n",
    "    print(f\"We have in total of {len(books)} in our library\")"
   ]
  },
  {
   "cell_type": "code",
   "execution_count": 2,
   "metadata": {},
   "outputs": [
    {
     "ename": "SyntaxError",
     "evalue": "invalid syntax (<ipython-input-2-4d26c955b827>, line 1)",
     "output_type": "error",
     "traceback": [
      "\u001b[1;36m  File \u001b[1;32m\"<ipython-input-2-4d26c955b827>\"\u001b[1;36m, line \u001b[1;32m1\u001b[0m\n\u001b[1;33m    books = [{author:'hareesh',title:'book1'},{author:'hareesh',title:'book2},{author:'nalini',title:'bookx'}]\u001b[0m\n\u001b[1;37m                                                                                            ^\u001b[0m\n\u001b[1;31mSyntaxError\u001b[0m\u001b[1;31m:\u001b[0m invalid syntax\n"
     ]
    }
   ],
   "source": [
    "books = [{author:'hareesh',title:'book1'},{author:'hareesh',title:'book2},{author:'nalini',title:'bookx'}]\n",
    "\n",
    "books = [] # contains Book title, Author\n",
    "menu_option = ''\n",
    "while True:\n",
    "    menu_option = input(\"Please select an option\\n 1 - ADD BOOK INFORMATION \\n 2 - DISPLAY BOOK INFORMATION \\n 3 - LIST ALL BOOKS OF GIVEN AUTHOR \\n 4 - LIST THE COUNT OF BOOKS IN THE LIBRARY \\n E - EXIT\\n\")\n",
    "    if menu_option =='E':\n",
    "        break\n",
    "    elif menu_option == '1':\n",
    "        new_book={}\n",
    "        new_book['Title'] = input(\"Please enter title of the book: \")\n",
    "        new_book['Author'] = input(\"Please enter Author of the book: \")\n",
    "        books.append(new_book)\n",
    "    elif menu_option == '2':\n",
    "        print(\"We have below books in our library\")\n",
    "        for book in books:\n",
    "            print(f\"Book - {book['Title']}, Author - {book['Author']}\")\n",
    "    elif menu_option == '3':\n",
    "        author = input(\"Please input the name of the author\")\n",
    "        book_found = False\n",
    "        for book in books:\n",
    "            if book['Author'].lower() == author.lower():\n",
    "                print(f\"Book - {book['Title']}, Author - {book['Author']}\")\n",
    "                book_found = True\n",
    "        if not book_found:\n",
    "            print(\"Sorry, We do not have that author's books\")\n",
    "    elif menu_option == '4':\n",
    "        print(f\"We have in total of {len(books)} in our library\")"
   ]
  },
  {
   "cell_type": "code",
   "execution_count": 18,
   "metadata": {},
   "outputs": [
    {
     "name": "stdout",
     "output_type": "stream",
     "text": [
      "enter  ‘n’ numbers from userpreethi, apple, sujatha\n",
      "[' apple', ' sujatha', 'preethi']\n"
     ]
    }
   ],
   "source": [
    "#Write a program to accept ‘n’ numbers from user , store these numbers into an\n",
    "#array and sort the numbers of an array using function.\n",
    "number=input(\"enter  ‘n’ numbers from user\")\n",
    "numb_list=number.split(',')\n",
    "numb_list\n",
    "numb_list.sort()\n",
    "print(numb_list)"
   ]
  },
  {
   "cell_type": "code",
   "execution_count": 17,
   "metadata": {},
   "outputs": [
    {
     "name": "stdout",
     "output_type": "stream",
     "text": [
      "enter number of employess:2\n",
      "enter account number123\n",
      "Enter namefrfc\n",
      "enter Account balance50\n",
      "frfc with 123 is having less balance\n",
      "enter account number12\n",
      "Enter namefwf\n",
      "enter Account balance505\n",
      "You are eligible to tke loan\n"
     ]
    }
   ],
   "source": [
    "#Write a program to accept customer details such as : Account_no, Name, Balance in Acount, Assume Maximum 20\n",
    "#Customer In the bank. Write a function to print the account no and name of each customer with balance below rs 100.\n",
    "emplo=int(input(\"enter number of employess:\"))\n",
    "\n",
    "for i in range(1,emplo+1):\n",
    "    Account_no=(input(\"enter account number\"))\n",
    "    Name=(input(\"Enter name\"))\n",
    "    Balance=int(input(\"enter Account balance\"))\n",
    "    if Balance<=100:\n",
    "        print('{0} with {1} is having less balance'.format(Name,Account_no))\n",
    "    else:\n",
    "        print(\"You are eligible to tke loan\")"
   ]
  },
  {
   "cell_type": "code",
   "execution_count": 6,
   "metadata": {},
   "outputs": [
    {
     "name": "stdout",
     "output_type": "stream",
     "text": [
      "enter a number123\n",
      "6\n"
     ]
    }
   ],
   "source": [
    "#Write a program to calculate the sum of digits of a given number.\n",
    "number=int(input(\"enter a number\"))\n",
    "\n",
    "sum=0\n",
    "while number>0:\n",
    "    n=number%10\n",
    "    sum=sum+n\n",
    "    number=int(number/10)\n",
    "print(sum)"
   ]
  },
  {
   "cell_type": "code",
   "execution_count": 7,
   "metadata": {},
   "outputs": [
    {
     "name": "stdout",
     "output_type": "stream",
     "text": [
      "(23, 12)\n"
     ]
    }
   ],
   "source": [
    "#Write a program to swap the values of two variables using Call by Reference.\n",
    "\n",
    "def swap(x,y):\n",
    "    z=x\n",
    "    x=y\n",
    "    y=z\n",
    "    return x,y\n",
    "print(swap(12,23))"
   ]
  },
  {
   "cell_type": "code",
   "execution_count": null,
   "metadata": {},
   "outputs": [
    {
     "name": "stdout",
     "output_type": "stream",
     "text": [
      "enter a number13\n",
      "31\n",
      "enter a number\n"
     ]
    }
   ],
   "source": [
    "#Write a program to calculate the sum of first digit and last digit of a given number\n",
    "number1=(input(\"enter a number\"))\n",
    "reverse=number1[::-1]\n",
    "print(reverse)\n",
    "number=int(input(\"enter a number\"))\n",
    "n=number%10\n",
    "\n",
    "while number>10:\n",
    "    number=int(number/10)\n",
    "print(n+number)"
   ]
  },
  {
   "cell_type": "code",
   "execution_count": 8,
   "metadata": {},
   "outputs": [
    {
     "name": "stdout",
     "output_type": "stream",
     "text": [
      "enter a string I am Preethi\n",
      " I m Prth\n"
     ]
    }
   ],
   "source": [
    "#Write a program to accept a string from user , delete all vowels from the string and display the result.\n",
    "user=input(\"enter a string\")\n",
    "x=[]\n",
    "for i in user:\n",
    "    if i not in 'aeiou':\n",
    "        x.append(i)\n",
    "y=''.join(x)\n",
    "print(y)"
   ]
  },
  {
   "cell_type": "code",
   "execution_count": 10,
   "metadata": {},
   "outputs": [
    {
     "name": "stdout",
     "output_type": "stream",
     "text": [
      "enter any stringeeeeee\n",
      "enter any chare\n",
      "6\n"
     ]
    }
   ],
   "source": [
    "#Write a program to accept a string value from the user and accept a char value from the user and and find out the total\n",
    "#occurrence of char value in the string value.\n",
    "user=input(\"enter any string\")\n",
    "charc=input(\"enter any char\")\n",
    "count=0\n",
    "for i in user:\n",
    "    if i==charc:\n",
    "        count=count+1\n",
    "print(count)"
   ]
  },
  {
   "cell_type": "code",
   "execution_count": 17,
   "metadata": {},
   "outputs": [
    {
     "name": "stdout",
     "output_type": "stream",
     "text": [
      "enter any stringWrite a program to accept a sentence from the user and reverse its each word.\n",
      "etirW a margorp ot tpecca a ecnetnes morf eht resu dna esrever sti hcae .drow\n"
     ]
    }
   ],
   "source": [
    "#Write a program to accept a sentence from the user and reverse its each word.\n",
    "user=input(\"enter any string\")\n",
    "modify=user.split(' ')\n",
    "x=[]\n",
    "for i in range(0,len(modify)):\n",
    "    m=modify[i][::-1]\n",
    "    x.append(m)\n",
    "y=' '.join(x)\n",
    "print(y)"
   ]
  },
  {
   "cell_type": "code",
   "execution_count": 21,
   "metadata": {},
   "outputs": [
    {
     "name": "stdout",
     "output_type": "stream",
     "text": [
      "3 3\n",
      "40\n"
     ]
    }
   ],
   "source": [
    "#Write a program to calculate sum of elements of M*N matrix.\n",
    "a = [    \n",
    "        [1, 5, 3],  \n",
    "        [4, 3, 6],  \n",
    "        [7, 2, 9]  \n",
    "    ]\n",
    "\n",
    "m=len(a)\n",
    "n=len(a[0])\n",
    "print(m,n)\n",
    "sum=0\n",
    "for i in range(0,m):\n",
    "    for j in range(0,n):\n",
    "        sum=sum+a[i][j]\n",
    "print(sum)"
   ]
  },
  {
   "cell_type": "code",
   "execution_count": 8,
   "metadata": {},
   "outputs": [
    {
     "name": "stdout",
     "output_type": "stream",
     "text": [
      "Please enter n numbers followed by comma:12,23,45,12\n",
      "['12', '23', '45', '12']\n",
      "{'12': 2, '23': 1, '45': 1}\n"
     ]
    }
   ],
   "source": [
    "#Write a program to accept ‘n’ numbers from user and store these numbers into an array and count the number of\n",
    "#occurrences of each number.\n",
    "a=input(\"Please enter n numbers followed by comma:\");\n",
    "b = [int(i) for i in a.split(',')]# or b=a.split(',')\n",
    "print(b)\n",
    "d={}\n",
    "z={j: b.count(j) for j in b}\n",
    "print(z)"
   ]
  },
  {
   "cell_type": "code",
   "execution_count": 12,
   "metadata": {},
   "outputs": [
    {
     "name": "stdout",
     "output_type": "stream",
     "text": [
      "enter any chara\n",
      "97\n",
      "b\n",
      "`\n"
     ]
    }
   ],
   "source": [
    "#Write a Program to Accept character and display its Ascii value and its Next and Previous Character.\n",
    "charc=input(\"enter any char\")\n",
    "a=ord(charc)\n",
    "print(ord(charc))\n",
    "print(chr(a+1))\n",
    "print(chr(a-1))"
   ]
  },
  {
   "cell_type": "code",
   "execution_count": 16,
   "metadata": {},
   "outputs": [
    {
     "name": "stdout",
     "output_type": "stream",
     "text": [
      "Please enter n numbers followed by comma:2, 3, 5, 8, 11, 15, 17, 20, 23, 29\n",
      "0\n",
      "0\n",
      "0\n",
      "1\n",
      "0\n",
      "1\n",
      "0\n",
      "1\n",
      "0\n",
      "0\n",
      "[2, 3, 5, 11, 17, 23, 29]\n"
     ]
    }
   ],
   "source": [
    "#Write a Program to accept ‘n’ numbers and store all prime numbers in an array and display the array.\n",
    "a=input(\"Please enter n numbers followed by comma:\");\n",
    "b =  a.split(',')\n",
    "\n",
    "z=[]\n",
    "for i in range(0,len(b)):\n",
    "    count=0\n",
    "    c=int(b[i])\n",
    "    for j in range(2,c):\n",
    "        if (c%j==0) and c!=j:\n",
    "            count=1\n",
    "    print(count)\n",
    "    if(count==0):\n",
    "        z.append(c)\n",
    "print(z)"
   ]
  },
  {
   "cell_type": "code",
   "execution_count": 17,
   "metadata": {},
   "outputs": [
    {
     "name": "stdout",
     "output_type": "stream",
     "text": [
      "8\n"
     ]
    }
   ],
   "source": [
    "#Write a program to calculate the x to the power y without using Standard functions.\n",
    "def funct(x,y):\n",
    "    return x**y\n",
    "print(funct(2,3))"
   ]
  },
  {
   "cell_type": "code",
   "execution_count": 2,
   "metadata": {},
   "outputs": [
    {
     "name": "stdout",
     "output_type": "stream",
     "text": [
      "enter one side of triangle2\n",
      "enter two side of triangle3\n",
      "enter three side of triangle4\n",
      "alid traingle\n"
     ]
    }
   ],
   "source": [
    "#Write a program to accept three sides of a triangle as input and print whether the Trangle is valid or Not.\n",
    "#(The trangle is valid, if sum of each of the two sides is greater then the third side.)\n",
    "s1=int(input(\"enter one side of triangle\"))\n",
    "s2=int(input(\"enter two side of triangle\"))\n",
    "s3=int(input(\"enter three side of triangle\"))\n",
    "if s1+s2 > s3:\n",
    "    print(\"valid traingle\")\n",
    "else:\n",
    "    print(\"not valid trianle\")"
   ]
  },
  {
   "cell_type": "code",
   "execution_count": 5,
   "metadata": {},
   "outputs": [
    {
     "name": "stdout",
     "output_type": "stream",
     "text": [
      "enter a string: prathi\n"
     ]
    },
    {
     "data": {
      "text/plain": [
       "'pr*thi'"
      ]
     },
     "execution_count": 5,
     "metadata": {},
     "output_type": "execute_result"
    }
   ],
   "source": [
    "#Write a program to accept string from the user and replace all occurrences of character ‘a’ by ‘*’ symbol.\n",
    "user=input(\"enter a string: \")\n",
    "user.replace('a','*')"
   ]
  },
  {
   "cell_type": "code",
   "execution_count": 6,
   "metadata": {},
   "outputs": [],
   "source": [
    "#Write a program to create student structure having fields roll_no, stud_name, mark1, mark2,mark3. Calculate the total\n",
    "#and average of marks and arrange the records in decending order of marks.\n"
   ]
  },
  {
   "cell_type": "code",
   "execution_count": 8,
   "metadata": {},
   "outputs": [
    {
     "name": "stdout",
     "output_type": "stream",
     "text": [
      "enter a numb20\n",
      "[20, 40, 60, 80, 100, 120, 140, 160, 180, 200]\n"
     ]
    }
   ],
   "source": [
    "#Write a program to display the multiplication table of a given number.\n",
    "number=(input(\"enter a numb\"))\n",
    "n=int(number)\n",
    "z=[]\n",
    "for i in range(1,11):\n",
    "    z.append(n*i)\n",
    "print(z)\n",
    "        \n",
    "        "
   ]
  },
  {
   "cell_type": "code",
   "execution_count": 6,
   "metadata": {},
   "outputs": [
    {
     "name": "stdout",
     "output_type": "stream",
     "text": [
      "enter a char or digitd\n",
      "Alphbet\n"
     ]
    }
   ],
   "source": [
    "#Write a program to display whether the input character is a digit or alphabet.\n",
    "ch = input(\"Enter any Character: \")\n",
    "\n",
    "if((ch >= 'a' and ch <= 'z') or (ch >= 'A' and ch <= 'Z')):\n",
    "    print(\"The Given Character\", ch, \"is an Alphabet\")\n",
    "elif(ch >= '0' and ch <= '9'):\n",
    "    print(\"The Given Character\", ch, \"is a Digit\")\n",
    "else:\n",
    "    print(\"The Given Character\", ch, \"is a Special Character\")"
   ]
  },
  {
   "cell_type": "code",
   "execution_count": 13,
   "metadata": {},
   "outputs": [
    {
     "ename": "TypeError",
     "evalue": "ord() expected a character, but string of length 3 found",
     "output_type": "error",
     "traceback": [
      "\u001b[1;31m---------------------------------------------------------------------------\u001b[0m",
      "\u001b[1;31mTypeError\u001b[0m                                 Traceback (most recent call last)",
      "\u001b[1;32m<ipython-input-13-7af1f47f5452>\u001b[0m in \u001b[0;36m<module>\u001b[1;34m\u001b[0m\n\u001b[0;32m     19\u001b[0m \u001b[1;31m# Driver Code\u001b[0m\u001b[1;33m\u001b[0m\u001b[1;33m\u001b[0m\u001b[1;33m\u001b[0m\u001b[0m\n\u001b[0;32m     20\u001b[0m \u001b[0minput_char\u001b[0m \u001b[1;33m=\u001b[0m \u001b[1;34m'$12'\u001b[0m\u001b[1;33m\u001b[0m\u001b[1;33m\u001b[0m\u001b[0m\n\u001b[1;32m---> 21\u001b[1;33m \u001b[0mcharCheck\u001b[0m\u001b[1;33m(\u001b[0m\u001b[0minput_char\u001b[0m\u001b[1;33m)\u001b[0m\u001b[1;33m\u001b[0m\u001b[1;33m\u001b[0m\u001b[0m\n\u001b[0m",
      "\u001b[1;32m<ipython-input-13-7af1f47f5452>\u001b[0m in \u001b[0;36mcharCheck\u001b[1;34m(input_char)\u001b[0m\n\u001b[0;32m      2\u001b[0m \u001b[1;33m\u001b[0m\u001b[0m\n\u001b[0;32m      3\u001b[0m     \u001b[1;31m# CHECKING FOR ALPHABET\u001b[0m\u001b[1;33m\u001b[0m\u001b[1;33m\u001b[0m\u001b[1;33m\u001b[0m\u001b[0m\n\u001b[1;32m----> 4\u001b[1;33m     if ((int(ord(input_char)) >= 65 and\n\u001b[0m\u001b[0;32m      5\u001b[0m         int(ord(input_char)) <= 90) or\n\u001b[0;32m      6\u001b[0m         (int(ord(input_char)) >= 97 and\n",
      "\u001b[1;31mTypeError\u001b[0m: ord() expected a character, but string of length 3 found"
     ]
    }
   ],
   "source": [
    "def charCheck(input_char): \n",
    "      \n",
    "    # CHECKING FOR ALPHABET \n",
    "    if ((int(ord(input_char)) >= 65 and\n",
    "        int(ord(input_char)) <= 90) or\n",
    "        (int(ord(input_char)) >= 97 and\n",
    "        int(ord(input_char)) <= 122)): \n",
    "        print( \" Alphabet \") \n",
    "      \n",
    "    # CHECKING FOR DIGITS \n",
    "    elif (int(ord(input_char)) >= 48 and\n",
    "            int(ord(input_char)) <= 57): \n",
    "        print(\" Digit \") \n",
    "  \n",
    "    # OTHERWISE SPECIAL CHARACTER \n",
    "    else: \n",
    "        print(\" Special Character \") \n",
    "  \n",
    "# Driver Code \n",
    "input_char = '$'\n",
    "charCheck(input_char) "
   ]
  },
  {
   "cell_type": "code",
   "execution_count": 4,
   "metadata": {},
   "outputs": [
    {
     "name": "stdout",
     "output_type": "stream",
     "text": [
      "enter salary5000\n",
      "55500.0\n"
     ]
    }
   ],
   "source": [
    "#Write a program to accept basic salary from user. If basic salary&gt;=5000 then hra=15% and da=150% of basic salary.\n",
    "#If basic salary&lt;5000 then hra=10% and da=110% of basic salary . Display the Gross salary.\n",
    "\n",
    "salary=float(input(\"enter salary\"))\n",
    "if salary>5000:\n",
    "    hra=0.15*salary\n",
    "    da=15*salary\n",
    "    gross=hra+da\n",
    "    print(gross)\n",
    "else:\n",
    "    hra=0.10*salary\n",
    "    da=11*salary\n",
    "    gross=hra+da\n",
    "    print(gross)"
   ]
  },
  {
   "cell_type": "code",
   "execution_count": 1,
   "metadata": {},
   "outputs": [
    {
     "ename": "SyntaxError",
     "evalue": "invalid syntax (<ipython-input-1-5cfe6f363f8a>, line 2)",
     "output_type": "error",
     "traceback": [
      "\u001b[1;36m  File \u001b[1;32m\"<ipython-input-1-5cfe6f363f8a>\"\u001b[1;36m, line \u001b[1;32m2\u001b[0m\n\u001b[1;33m    --Calculate length of string\u001b[0m\n\u001b[1;37m                     ^\u001b[0m\n\u001b[1;31mSyntaxError\u001b[0m\u001b[1;31m:\u001b[0m invalid syntax\n"
     ]
    }
   ],
   "source": [
    "#Write a menu driven program to perform the following operations on string using standard library functions\n",
    "--Calculate length of string\n",
    "--Reverse a given string\n",
    "--Concatenation of one string to another\n",
    "--Copy one String into another\n",
    "--Compare two string."
   ]
  },
  {
   "cell_type": "code",
   "execution_count": 2,
   "metadata": {},
   "outputs": [
    {
     "name": "stdout",
     "output_type": "stream",
     "text": [
      "enter  stringpreethi\n",
      "enter  stringprithi\n",
      "7\n",
      "ihteerp\n",
      "preethiprithi\n",
      "prithi preethi\n",
      "False\n"
     ]
    }
   ],
   "source": [
    "strings=input(\"enter  string\")\n",
    "string2=input(\"enter  string\")\n",
    "print(len(strings))\n",
    "print(strings[::-1])\n",
    "print(strings+string2)\n",
    "temp=strings\n",
    "strings=string2\n",
    "string2=temp\n",
    "print(strings,string2)\n",
    "print(strings==string2)"
   ]
  },
  {
   "cell_type": "code",
   "execution_count": null,
   "metadata": {},
   "outputs": [],
   "source": [
    "\n",
    "\"\"\"\n",
    "Question 1\n",
    "Write A program to accept  Four digit number from user and count zero , \n",
    "odd and even digits from the entered number\n",
    "\"\"\" \n",
    "number_str = ''\n",
    "while len(number_str) != 4: \n",
    "    number_str = input(\"Please input 4 digit number : \")\n",
    "    if len(number_str) == 4:\n",
    "        break;\n",
    "# digits= {\n",
    "#     'zero':0,\n",
    "#     'odd':0,\n",
    "#     'even':0\n",
    "# }\n",
    "digits_zero =0\n",
    "digits_odd =0\n",
    "digits_even =0\n",
    "for number in number_str:\n",
    "    int_number = int(number)\n",
    "    if int_number ==0:\n",
    "        digits_zero +=1\n",
    "    elif int_number in [2,4,6,8]:\n",
    "        digits_even +=1\n",
    "    else:\n",
    "        digits_odd +=1\n",
    "print(\n",
    "f\"\"\"The number of zeros {digits_zero}\n",
    "The number of even digits {digits_even}\n",
    "The number of odd digits {digits_odd}\"\"\")"
   ]
  },
  {
   "cell_type": "code",
   "execution_count": null,
   "metadata": {},
   "outputs": [],
   "source": []
  }
 ],
 "metadata": {
  "kernelspec": {
   "display_name": "Python 3",
   "language": "python",
   "name": "python3"
  },
  "language_info": {
   "codemirror_mode": {
    "name": "ipython",
    "version": 3
   },
   "file_extension": ".py",
   "mimetype": "text/x-python",
   "name": "python",
   "nbconvert_exporter": "python",
   "pygments_lexer": "ipython3",
   "version": "3.7.4"
  }
 },
 "nbformat": 4,
 "nbformat_minor": 2
}
