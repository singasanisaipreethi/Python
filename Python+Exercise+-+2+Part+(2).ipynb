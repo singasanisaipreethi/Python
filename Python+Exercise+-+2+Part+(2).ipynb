{
 "cells": [
  {
   "cell_type": "code",
   "execution_count": 42,
   "metadata": {},
   "outputs": [
    {
     "name": "stdout",
     "output_type": "stream",
     "text": [
      "45\n"
     ]
    }
   ],
   "source": [
    "# employee data with key as id of the employee and values as age of the employee\n",
    "Employee_data ={101: 43, 102: 25, 103: 43, 104: 31, 105: 26, 106: 28, 107: 29, 108: 43, 109: 25, 110: 22, 111: 22, 112: 25, 113: 30, 115: 45, 116: 23, 117: 29, 118: 28, 119: 30, 120: 28, 121: 42, 122: 39, 123: 29, 124: 42, 125: 43, 126: 42, 127: 40, 128: 27, 129: 23, 130: 30, 131: 37, 132: 20, 133: 36, 134: 27, 135: 27, 136: 22, 137: 28, 138: 23, 139: 45, 140: 39, 141: 29, 142: 33, 143: 39, 145: 34, 146: 26, 147: 30, 148: 38, 149: 29, 150: 24, 151: 28, 152: 34, 153: 42, 154: 29, 155: 23, 156: 31, 158: 25, 160: 45, 161: 42, 162: 27, 163: 24, 164: 20, 166: 24, 167: 28, 168: 20, 169: 33, 170: 34, 171: 37, 172: 45, 173: 35, 174: 23, 175: 44, 176: 27, 177: 30, 178: 26, 179: 27} \n",
    "age=Employee_data.values();\n",
    "\n",
    "print(max(age))"
   ]
  },
  {
   "cell_type": "markdown",
   "metadata": {},
   "source": [
    "#### Identify the senior most employees age\n",
    "\n",
    "- 45\n",
    "- 44\n",
    "- 48\n",
    "- 42"
   ]
  },
  {
   "cell_type": "code",
   "execution_count": 43,
   "metadata": {},
   "outputs": [
    {
     "name": "stdout",
     "output_type": "stream",
     "text": [
      "NA\n"
     ]
    }
   ],
   "source": [
    "# Type your code here\n",
    "print(Employee_data.get(159,'NA'))"
   ]
  },
  {
   "cell_type": "markdown",
   "metadata": {},
   "source": [
    "#### Identify the age of the employee with employee id 159 [ If the employee isn't present return NA]\n",
    "\n",
    "- 25\n",
    "- 32\n",
    "- NA\n",
    "- 42"
   ]
  },
  {
   "cell_type": "code",
   "execution_count": 44,
   "metadata": {},
   "outputs": [
    {
     "name": "stdout",
     "output_type": "stream",
     "text": [
      "74\n"
     ]
    }
   ],
   "source": [
    "# Type your code here\n",
    "# Employee_data.keys().count()\n",
    "print(len(Employee_data))"
   ]
  },
  {
   "cell_type": "code",
   "execution_count": 45,
   "metadata": {},
   "outputs": [],
   "source": [
    "#print(Employee_data)"
   ]
  },
  {
   "cell_type": "markdown",
   "metadata": {},
   "source": [
    "#### Count the total number of employee in the organization\n",
    "\n",
    "- 79\n",
    "- 78\n",
    "- 60\n",
    "- 74"
   ]
  },
  {
   "cell_type": "code",
   "execution_count": 46,
   "metadata": {},
   "outputs": [
    {
     "name": "stdout",
     "output_type": "stream",
     "text": [
      "2321\n",
      "31.364864864864863\n"
     ]
    }
   ],
   "source": [
    "# Type your code here\n",
    "agi =Employee_data.values();\n",
    "a = sum(agi)\n",
    "print(sum(agi))\n",
    "\n",
    "sum_1=(a/len(Employee_data))\n",
    "print(sum_1)"
   ]
  },
  {
   "cell_type": "markdown",
   "metadata": {},
   "source": [
    "#### Calculate the mean age of the employees\n",
    "\n",
    "- 31.36\n",
    "- 36.48\n",
    "- 28.77\n",
    "- 32.47"
   ]
  },
  {
   "cell_type": "code",
   "execution_count": 47,
   "metadata": {},
   "outputs": [
    {
     "name": "stdout",
     "output_type": "stream",
     "text": [
      "{101: 43, 102: 25, 103: 43, 104: 27, 105: 26, 106: 28, 107: 29, 108: 43, 109: 25, 110: 22, 111: 22, 112: 25, 113: 30, 115: 45, 116: 23, 117: 29, 118: 28, 119: 30, 120: 28, 121: 42, 122: 39, 123: 29, 124: 42, 125: 43, 126: 42, 127: 40, 128: 27, 129: 23, 130: 30, 131: 37, 132: 20, 133: 36, 134: 27, 135: 27, 136: 22, 137: 28, 138: 23, 139: 45, 140: 27, 141: 29, 142: 33, 145: 34, 146: 26, 147: 30, 148: 38, 149: 29, 150: 24, 151: 28, 152: 34, 153: 42, 154: 29, 155: 23, 156: 31, 158: 25, 160: 45, 161: 42, 162: 27, 163: 24, 164: 20, 166: 24, 167: 28, 168: 20, 169: 33, 170: 34, 171: 37, 172: 45, 173: 35, 174: 23, 175: 44, 176: 27, 177: 30, 178: 26, 179: 27}\n"
     ]
    }
   ],
   "source": [
    "# Type your code here\n",
    "#Employee_data[104,140,179]= 27\n",
    "#Employee_data.update({104: 30, 140: 26, 179: 27})\n",
    "Employee_data.update( [(104, 27),(140, 27),(179, 27)] )\n",
    "Employee_data.pop(143)\n",
    "print(Employee_data)\n"
   ]
  },
  {
   "cell_type": "markdown",
   "metadata": {},
   "source": [
    "#### Perform the following two tasks and then calculate the updated mean age of the employees\n",
    "Task1 Update the ages of employee id - 104,140, and 164 as 27 <br>\n",
    "Task2 Remove the employ with employee id - 143 <br>\n",
    "\n",
    "- 30.71\n",
    "- 31.36\n",
    "- 30.13\n",
    "- 31.13\n"
   ]
  },
  {
   "cell_type": "code",
   "execution_count": 48,
   "metadata": {},
   "outputs": [
    {
     "name": "stdout",
     "output_type": "stream",
     "text": [
      "2266\n",
      "31.041095890410958\n"
     ]
    }
   ],
   "source": [
    "# Type your code here\n",
    "agie =Employee_data.values();\n",
    "a2 = sum(agie)\n",
    "print(sum(agie))\n",
    "\n",
    "sum_12=(a2/len(Employee_data))\n",
    "print(sum_12)"
   ]
  },
  {
   "cell_type": "code",
   "execution_count": null,
   "metadata": {},
   "outputs": [],
   "source": []
  }
 ],
 "metadata": {
  "kernelspec": {
   "display_name": "Python 3",
   "language": "python",
   "name": "python3"
  },
  "language_info": {
   "codemirror_mode": {
    "name": "ipython",
    "version": 3
   },
   "file_extension": ".py",
   "mimetype": "text/x-python",
   "name": "python",
   "nbconvert_exporter": "python",
   "pygments_lexer": "ipython3",
   "version": "3.7.4"
  }
 },
 "nbformat": 4,
 "nbformat_minor": 2
}
